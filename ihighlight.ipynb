{
 "cells": [
  {
   "cell_type": "code",
   "execution_count": null,
   "id": "e021a37d-3e5c-46ea-99bf-0d1b2f5161b4",
   "metadata": {},
   "outputs": [],
   "source": []
  },
  {
   "cell_type": "code",
   "execution_count": 1,
   "id": "3455fc06-b01d-4815-8e64-bf83f514c427",
   "metadata": {},
   "outputs": [
    {
     "name": "stdout",
     "output_type": "stream",
     "text": [
      "This is a positive test example\n"
     ]
    }
   ],
   "source": [
    "print(\"This is a positive test example\")"
   ]
  },
  {
   "cell_type": "code",
   "execution_count": null,
   "id": "41c21f37-4966-4b99-9833-181fe250fd28",
   "metadata": {},
   "outputs": [],
   "source": []
  },
  {
   "cell_type": "code",
   "execution_count": 7,
   "id": "5e22632b-c342-47c6-bb2b-0e48374b6486",
   "metadata": {},
   "outputs": [],
   "source": [
    "import time"
   ]
  },
  {
   "cell_type": "code",
   "execution_count": 9,
   "id": "48099525-4f74-4e28-bd88-c7cb1d449ad8",
   "metadata": {},
   "outputs": [
    {
     "name": "stdout",
     "output_type": "stream",
     "text": [
      "This is a pending test example\n"
     ]
    }
   ],
   "source": [
    "time.sleep(5)\n",
    "print(\"This is a pending test example\")"
   ]
  },
  {
   "cell_type": "code",
   "execution_count": null,
   "id": "aabac0b4-5299-4a7b-b9ae-48b8bbbc9457",
   "metadata": {},
   "outputs": [],
   "source": []
  },
  {
   "cell_type": "code",
   "execution_count": 11,
   "id": "8dc59e8c-a549-498e-b211-a93411462163",
   "metadata": {},
   "outputs": [
    {
     "ename": "Exception",
     "evalue": "This is an exception/error example",
     "output_type": "error",
     "traceback": [
      "\u001b[0;31m---------------------------------------------------------------------------\u001b[0m",
      "\u001b[0;31mException\u001b[0m                                 Traceback (most recent call last)",
      "Cell \u001b[0;32mIn[11], line 1\u001b[0m\n\u001b[0;32m----> 1\u001b[0m \u001b[38;5;28;01mraise\u001b[39;00m \u001b[38;5;167;01mException\u001b[39;00m(\u001b[38;5;124m\"\u001b[39m\u001b[38;5;124mThis is an exception/error example\u001b[39m\u001b[38;5;124m\"\u001b[39m)\n",
      "\u001b[0;31mException\u001b[0m: This is an exception/error example"
     ]
    }
   ],
   "source": [
    "raise Exception(\"This is an exception/error example\")"
   ]
  },
  {
   "cell_type": "code",
   "execution_count": null,
   "id": "8fec6b34-ebf1-46fa-8852-33918b891bcb",
   "metadata": {},
   "outputs": [],
   "source": []
  },
  {
   "cell_type": "code",
   "execution_count": null,
   "id": "8b8a206c-6a09-43e0-8193-fb8eb3a1cb6e",
   "metadata": {},
   "outputs": [],
   "source": []
  }
 ],
 "metadata": {
  "kernelspec": {
   "display_name": "Python 3 (ipykernel)",
   "language": "python",
   "name": "python3"
  },
  "language_info": {
   "codemirror_mode": {
    "name": "ipython",
    "version": 3
   },
   "file_extension": ".py",
   "mimetype": "text/x-python",
   "name": "python",
   "nbconvert_exporter": "python",
   "pygments_lexer": "ipython3",
   "version": "3.12.2"
  }
 },
 "nbformat": 4,
 "nbformat_minor": 5
}
